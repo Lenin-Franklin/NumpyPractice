{
 "cells": [
  {
   "cell_type": "code",
   "execution_count": 1,
   "id": "af723fbc-603c-4873-9c37-9727ed94e01e",
   "metadata": {},
   "outputs": [],
   "source": [
    "import numpy as np"
   ]
  },
  {
   "cell_type": "code",
   "execution_count": 2,
   "id": "70df83f1-4a2e-496f-b46e-2854ed4641c3",
   "metadata": {},
   "outputs": [],
   "source": [
    "one_d = np.array([1,2,3,4])"
   ]
  },
  {
   "cell_type": "code",
   "execution_count": 3,
   "id": "516f4f6b-9978-4083-859d-8c6ff0c1c599",
   "metadata": {},
   "outputs": [
    {
     "name": "stdout",
     "output_type": "stream",
     "text": [
      "[1 2 3 4]\n"
     ]
    }
   ],
   "source": [
    "print(one_d)"
   ]
  },
  {
   "cell_type": "code",
   "execution_count": 4,
   "id": "30fa4706-4931-465e-bf0b-ef83143267ef",
   "metadata": {},
   "outputs": [
    {
     "ename": "TypeError",
     "evalue": "Field elements must be 2- or 3-tuples, got '3'",
     "output_type": "error",
     "traceback": [
      "\u001b[1;31m---------------------------------------------------------------------------\u001b[0m",
      "\u001b[1;31mTypeError\u001b[0m                                 Traceback (most recent call last)",
      "Cell \u001b[1;32mIn[4], line 1\u001b[0m\n\u001b[1;32m----> 1\u001b[0m two_d \u001b[38;5;241m=\u001b[39m np\u001b[38;5;241m.\u001b[39marray([\u001b[38;5;241m1\u001b[39m,\u001b[38;5;241m2\u001b[39m,\u001b[38;5;241m3\u001b[39m],[\u001b[38;5;241m3\u001b[39m,\u001b[38;5;241m4\u001b[39m,\u001b[38;5;241m5\u001b[39m])\n",
      "\u001b[1;31mTypeError\u001b[0m: Field elements must be 2- or 3-tuples, got '3'"
     ]
    }
   ],
   "source": [
    "two_d = np.array([1,2,3],[3,4,5])"
   ]
  },
  {
   "cell_type": "code",
   "execution_count": 5,
   "id": "e3598b27-dadd-4c9f-8bdd-e8588c0818ee",
   "metadata": {},
   "outputs": [],
   "source": [
    "two_d = np.array([[1,2,3],[4,5,6]])"
   ]
  },
  {
   "cell_type": "code",
   "execution_count": 6,
   "id": "b20e5ee6-4b6b-4f19-9b6f-bb7bb9105c72",
   "metadata": {},
   "outputs": [
    {
     "name": "stdout",
     "output_type": "stream",
     "text": [
      "[[1 2 3]\n",
      " [4 5 6]]\n"
     ]
    }
   ],
   "source": [
    "print(two_d)"
   ]
  },
  {
   "cell_type": "code",
   "execution_count": 8,
   "id": "6f8d3619-e80f-4d06-9524-453ba3098c2c",
   "metadata": {},
   "outputs": [
    {
     "name": "stdout",
     "output_type": "stream",
     "text": [
      "[[[1 2 3]\n",
      "  [4 5 6]\n",
      "  [7 8 9]]]\n"
     ]
    }
   ],
   "source": [
    "three_d = np.array([[[1,2,3],[4,5,6],[7,8,9]]])\n",
    "print(three_d)"
   ]
  },
  {
   "cell_type": "code",
   "execution_count": 9,
   "id": "dcd052fa-2486-4ded-99fb-2e6dd590170e",
   "metadata": {},
   "outputs": [
    {
     "name": "stdout",
     "output_type": "stream",
     "text": [
      "Element at Index in 2 in 1D :  3\n"
     ]
    }
   ],
   "source": [
    "print(\"Element at Index in 2 in 1D : \",one_d[2])"
   ]
  },
  {
   "cell_type": "code",
   "execution_count": 11,
   "id": "0a03a0cf-2c6b-4626-859f-028b7954b01d",
   "metadata": {},
   "outputs": [
    {
     "name": "stdout",
     "output_type": "stream",
     "text": [
      "Slice from index at 1 to 4 in 1D array :  [2 3 4]\n"
     ]
    }
   ],
   "source": [
    "print(\"Slice from index at 1 to 4 in 1D array : \", one_d[1:4])"
   ]
  },
  {
   "cell_type": "code",
   "execution_count": 12,
   "id": "87265f7d-29e7-4128-b64a-5fc6846d87ed",
   "metadata": {},
   "outputs": [],
   "source": [
    "added = one_d + 5"
   ]
  },
  {
   "cell_type": "code",
   "execution_count": 13,
   "id": "d1edea63-f50a-425d-8011-5c13e33e4bf3",
   "metadata": {},
   "outputs": [
    {
     "name": "stdout",
     "output_type": "stream",
     "text": [
      "[6 7 8 9]\n"
     ]
    }
   ],
   "source": [
    "print(added)"
   ]
  },
  {
   "cell_type": "code",
   "execution_count": 14,
   "id": "e28ad8a2-d374-4855-81dd-2274f1e77018",
   "metadata": {},
   "outputs": [
    {
     "name": "stdout",
     "output_type": "stream",
     "text": [
      "[[ 6  7  8]\n",
      " [ 9 10 11]]\n"
     ]
    }
   ],
   "source": [
    "added_ad = two_d + 5\n",
    "print(added_ad)"
   ]
  },
  {
   "cell_type": "code",
   "execution_count": 15,
   "id": "43f70318-27ed-4b5c-b332-618cf007062d",
   "metadata": {},
   "outputs": [],
   "source": [
    "multiplied = two_d * 10"
   ]
  },
  {
   "cell_type": "code",
   "execution_count": 17,
   "id": "8f7d4107-46b8-4a22-b73e-218880a60977",
   "metadata": {},
   "outputs": [
    {
     "name": "stdout",
     "output_type": "stream",
     "text": [
      "[[10 20 30]\n",
      " [40 50 60]]\n"
     ]
    }
   ],
   "source": [
    "print(multiplied)"
   ]
  },
  {
   "cell_type": "code",
   "execution_count": 19,
   "id": "22ba7724-9a2b-4a2e-a941-2b818ba5bb32",
   "metadata": {},
   "outputs": [
    {
     "name": "stdout",
     "output_type": "stream",
     "text": [
      "Reshaped Array (3X4):\n",
      " [[ 0  1  2  3]\n",
      " [ 4  5  6  7]\n",
      " [ 8  9 10 11]]\n"
     ]
    }
   ],
   "source": [
    "reshaped = np.arange(12).reshape(3,4)\n",
    "print(\"Reshaped Array (3X4):\\n\", reshaped)"
   ]
  },
  {
   "cell_type": "code",
   "execution_count": 20,
   "id": "e40f282d-decf-40db-9ff1-aa68c1b87ffb",
   "metadata": {},
   "outputs": [
    {
     "name": "stdout",
     "output_type": "stream",
     "text": [
      "[9, 6, 5, 34, 2, 1]\n"
     ]
    }
   ],
   "source": [
    "#Reverse an array\n",
    "arr = [1,2,34,5,6,9]\n",
    "print(arr[::-1])"
   ]
  },
  {
   "cell_type": "code",
   "execution_count": 21,
   "id": "433f8f12-34b6-41e5-b698-08bdb5dd6759",
   "metadata": {},
   "outputs": [
    {
     "name": "stdout",
     "output_type": "stream",
     "text": [
      "[[5, 6, 7, 8], [1, 2, 3, 4]]\n"
     ]
    }
   ],
   "source": [
    "arr_two = [[1,2,3,4],[5,6,7,8]]\n",
    "print(arr_two[::-1])"
   ]
  },
  {
   "cell_type": "code",
   "execution_count": 22,
   "id": "ffe3c81c-cc02-4c2b-8b23-c8ed7d918367",
   "metadata": {},
   "outputs": [
    {
     "name": "stdout",
     "output_type": "stream",
     "text": [
      "Unique elements: [0 1 3 4 5 6 7 9]\n"
     ]
    }
   ],
   "source": [
    "arr = [1,1,3,4,5,5,5,5,6,7,0,9]\n",
    "unique = np.unique(arr)\n",
    "print(\"Unique elements:\", unique)"
   ]
  },
  {
   "cell_type": "code",
   "execution_count": 23,
   "id": "7b58db57-72d7-42db-a85c-116a5624f9c4",
   "metadata": {},
   "outputs": [
    {
     "name": "stdout",
     "output_type": "stream",
     "text": [
      "Matrix multiplication result:\n",
      " [[19 22]\n",
      " [43 50]]\n"
     ]
    }
   ],
   "source": [
    "A = np.array([[1,2],[3,4]])\n",
    "B = np.array([[5,6],[7,8]])\n",
    "result = np.dot(A,B)\n",
    "print(\"Matrix multiplication result:\\n\", result)"
   ]
  },
  {
   "cell_type": "code",
   "execution_count": 24,
   "id": "d3885e53-9eba-4d90-b46e-020b40c1624b",
   "metadata": {},
   "outputs": [],
   "source": [
    "arr = np.array([10,30,40,50,60,70])\n",
    "mask = arr>25"
   ]
  },
  {
   "cell_type": "code",
   "execution_count": 25,
   "id": "f06df0c3-674a-40f8-87e3-699f785b89e0",
   "metadata": {},
   "outputs": [
    {
     "name": "stdout",
     "output_type": "stream",
     "text": [
      "[10 30 40 50 60 70]\n"
     ]
    }
   ],
   "source": [
    "print(arr)"
   ]
  },
  {
   "cell_type": "code",
   "execution_count": 26,
   "id": "a3557e46-4352-43b4-a45a-e946b523ed23",
   "metadata": {},
   "outputs": [
    {
     "name": "stdout",
     "output_type": "stream",
     "text": [
      "[False  True  True  True  True  True]\n"
     ]
    }
   ],
   "source": [
    "print(mask)"
   ]
  },
  {
   "cell_type": "code",
   "execution_count": 27,
   "id": "5114edcf-1f43-4378-9632-420bef955b5f",
   "metadata": {},
   "outputs": [
    {
     "name": "stdout",
     "output_type": "stream",
     "text": [
      "[30 40 50 60 70]\n"
     ]
    }
   ],
   "source": [
    "print(arr[mask])"
   ]
  },
  {
   "cell_type": "code",
   "execution_count": 28,
   "id": "af2ccf68-42b2-4cdf-8e9e-8676bb2b9854",
   "metadata": {},
   "outputs": [
    {
     "name": "stdout",
     "output_type": "stream",
     "text": [
      "[[0 1 0 1 0 1 0 1]\n",
      " [1 0 1 0 1 0 1 0]\n",
      " [0 1 0 1 0 1 0 1]\n",
      " [1 0 1 0 1 0 1 0]\n",
      " [0 1 0 1 0 1 0 1]\n",
      " [1 0 1 0 1 0 1 0]\n",
      " [0 1 0 1 0 1 0 1]\n",
      " [1 0 1 0 1 0 1 0]]\n"
     ]
    }
   ],
   "source": [
    "checkerboard = np.zeros((8,8), dtype = int)\n",
    "checkerboard[1::2,::2] =1\n",
    "checkerboard[::2,1::2] = 1\n",
    "print(checkerboard)"
   ]
  },
  {
   "cell_type": "code",
   "execution_count": null,
   "id": "00459daa-8a93-4367-8bf5-1a09a9dcd488",
   "metadata": {},
   "outputs": [],
   "source": []
  }
 ],
 "metadata": {
  "kernelspec": {
   "display_name": "Python 3 (ipykernel)",
   "language": "python",
   "name": "python3"
  },
  "language_info": {
   "codemirror_mode": {
    "name": "ipython",
    "version": 3
   },
   "file_extension": ".py",
   "mimetype": "text/x-python",
   "name": "python",
   "nbconvert_exporter": "python",
   "pygments_lexer": "ipython3",
   "version": "3.13.5"
  }
 },
 "nbformat": 4,
 "nbformat_minor": 5
}
