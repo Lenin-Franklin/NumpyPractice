{
 "cells": [
  {
   "cell_type": "code",
   "execution_count": 1,
   "id": "5f8e841c-73ac-465d-9472-6c70207912c9",
   "metadata": {},
   "outputs": [],
   "source": [
    "import numpy as np"
   ]
  },
  {
   "cell_type": "code",
   "execution_count": 2,
   "id": "1fd39f3d-0c1c-4e40-bdad-a527ec1429df",
   "metadata": {},
   "outputs": [],
   "source": [
    "grades = np.random.randint(50,101,size=(10,5))"
   ]
  },
  {
   "cell_type": "code",
   "execution_count": 3,
   "id": "62fca4ca-cf10-40df-a1fd-bf4c46dc3b33",
   "metadata": {},
   "outputs": [
    {
     "name": "stdout",
     "output_type": "stream",
     "text": [
      "[[79 77 73 60 72]\n",
      " [98 86 59 81 99]\n",
      " [50 77 56 67 95]\n",
      " [64 57 99 82 71]\n",
      " [52 93 73 96 58]\n",
      " [64 92 99 86 87]\n",
      " [91 90 99 59 51]\n",
      " [82 76 71 63 53]\n",
      " [92 56 97 61 71]\n",
      " [64 64 57 73 61]]\n"
     ]
    }
   ],
   "source": [
    "print(grades)"
   ]
  },
  {
   "cell_type": "code",
   "execution_count": 8,
   "id": "e3043ab6-52d2-49dd-85ce-5488a4a2329e",
   "metadata": {},
   "outputs": [
    {
     "name": "stdout",
     "output_type": "stream",
     "text": [
      "Student Grades (10 students for 5 subjects) : \n",
      "Student 0 :\n",
      "\tSubject  1  :  79\n",
      "\tSubject  2  :  77\n",
      "\tSubject  3  :  73\n",
      "\tSubject  4  :  60\n",
      "\tSubject  5  :  72\n",
      "Student 1 :\n",
      "\tSubject  1  :  98\n",
      "\tSubject  2  :  86\n",
      "\tSubject  3  :  59\n",
      "\tSubject  4  :  81\n",
      "\tSubject  5  :  99\n",
      "Student 2 :\n",
      "\tSubject  1  :  50\n",
      "\tSubject  2  :  77\n",
      "\tSubject  3  :  56\n",
      "\tSubject  4  :  67\n",
      "\tSubject  5  :  95\n",
      "Student 3 :\n",
      "\tSubject  1  :  64\n",
      "\tSubject  2  :  57\n",
      "\tSubject  3  :  99\n",
      "\tSubject  4  :  82\n",
      "\tSubject  5  :  71\n",
      "Student 4 :\n",
      "\tSubject  1  :  52\n",
      "\tSubject  2  :  93\n",
      "\tSubject  3  :  73\n",
      "\tSubject  4  :  96\n",
      "\tSubject  5  :  58\n",
      "Student 5 :\n",
      "\tSubject  1  :  64\n",
      "\tSubject  2  :  92\n",
      "\tSubject  3  :  99\n",
      "\tSubject  4  :  86\n",
      "\tSubject  5  :  87\n",
      "Student 6 :\n",
      "\tSubject  1  :  91\n",
      "\tSubject  2  :  90\n",
      "\tSubject  3  :  99\n",
      "\tSubject  4  :  59\n",
      "\tSubject  5  :  51\n",
      "Student 7 :\n",
      "\tSubject  1  :  82\n",
      "\tSubject  2  :  76\n",
      "\tSubject  3  :  71\n",
      "\tSubject  4  :  63\n",
      "\tSubject  5  :  53\n",
      "Student 8 :\n",
      "\tSubject  1  :  92\n",
      "\tSubject  2  :  56\n",
      "\tSubject  3  :  97\n",
      "\tSubject  4  :  61\n",
      "\tSubject  5  :  71\n",
      "Student 9 :\n",
      "\tSubject  1  :  64\n",
      "\tSubject  2  :  64\n",
      "\tSubject  3  :  57\n",
      "\tSubject  4  :  73\n",
      "\tSubject  5  :  61\n"
     ]
    }
   ],
   "source": [
    "print(\"Student Grades (10 students for 5 subjects) : \")\n",
    "for i in range(10):\n",
    "    print(\"Student\",i,\":\")\n",
    "    for j in range(5):\n",
    "        print(\"\\tSubject \",j+1,\" : \",grades[i,j])"
   ]
  },
  {
   "cell_type": "code",
   "execution_count": 12,
   "id": "0692c9b1-3a42-4f8e-afc7-ff25df603950",
   "metadata": {},
   "outputs": [
    {
     "name": "stdout",
     "output_type": "stream",
     "text": [
      "Grades for the first 3 students: \n",
      "\n",
      "[[79 77 73 60 72]\n",
      " [98 86 59 81 99]\n",
      " [50 77 56 67 95]]\n"
     ]
    }
   ],
   "source": [
    "#Print the grades for first 3 students:\n",
    "\n",
    "print(\"Grades for the first 3 students: \\n\")\n",
    "print(grades[:3])"
   ]
  },
  {
   "cell_type": "code",
   "execution_count": 14,
   "id": "1cfce5fe-8f62-4f86-a221-88710401302a",
   "metadata": {},
   "outputs": [
    {
     "name": "stdout",
     "output_type": "stream",
     "text": [
      "All marks for subejct 2 :\n",
      "[77 86 77 57 93 92 90 76 56 64]\n"
     ]
    }
   ],
   "source": [
    "#Extract the grades for subject 2(index 1)\n",
    "print(\"All marks for subejct 2 :\")\n",
    "print(grades[:,1])"
   ]
  },
  {
   "cell_type": "code",
   "execution_count": 18,
   "id": "a26a477e-6214-4a3e-a95a-e70a2f7e09ea",
   "metadata": {},
   "outputs": [
    {
     "name": "stdout",
     "output_type": "stream",
     "text": [
      "Average marks of Student  0  :  72.2\n",
      "Average marks of Student  1  :  84.6\n",
      "Average marks of Student  2  :  69.0\n",
      "Average marks of Student  3  :  74.6\n",
      "Average marks of Student  4  :  74.4\n",
      "Average marks of Student  5  :  85.6\n",
      "Average marks of Student  6  :  78.0\n",
      "Average marks of Student  7  :  69.0\n",
      "Average marks of Student  8  :  75.4\n",
      "Average marks of Student  9  :  63.8\n"
     ]
    }
   ],
   "source": [
    "#Calculate average grade per student\n",
    "avg_per_student = np.mean(grades, axis = 1)\n",
    "for i in range(10):\n",
    "    print(\"Average marks of Student \",i,\" : \",avg_per_student[i])\n"
   ]
  },
  {
   "cell_type": "code",
   "execution_count": 20,
   "id": "06eb31fa-6eec-44eb-a626-71e9b91038e5",
   "metadata": {},
   "outputs": [
    {
     "name": "stdout",
     "output_type": "stream",
     "text": [
      "Reshaped Grades (5 X 10)\n",
      "[[79 77 73 60 72 98 86 59 81 99]\n",
      " [50 77 56 67 95 64 57 99 82 71]\n",
      " [52 93 73 96 58 64 92 99 86 87]\n",
      " [91 90 99 59 51 82 76 71 63 53]\n",
      " [92 56 97 61 71 64 64 57 73 61]]\n"
     ]
    }
   ],
   "source": [
    "#Reshape the array to (5,10)\n",
    "reshaped_grades = grades.reshape(5,10)\n",
    "print(\"Reshaped Grades (5 X 10)\")\n",
    "print (reshaped_grades)"
   ]
  },
  {
   "cell_type": "code",
   "execution_count": 21,
   "id": "0c1bb106-d116-4d71-9b3f-746f6c45ec06",
   "metadata": {},
   "outputs": [
    {
     "name": "stdout",
     "output_type": "stream",
     "text": [
      "[[86 87]\n",
      " [59 51]\n",
      " [63 53]\n",
      " [61 71]\n",
      " [73 61]]\n"
     ]
    }
   ],
   "source": [
    "#Slice the last two subjects(columns 3 and 4) for the last 5 students (rows 5 to 9_)\n",
    "sliced_grades = grades[5:,3:]\n",
    "print(sliced_grades)"
   ]
  },
  {
   "cell_type": "code",
   "execution_count": 23,
   "id": "c3c7e9c6-67ee-4d93-b292-e2fa28426cc7",
   "metadata": {},
   "outputs": [
    {
     "name": "stdout",
     "output_type": "stream",
     "text": [
      "[ 78  64  61 104  78 104 104  76 102  62]\n"
     ]
    }
   ],
   "source": [
    "#Add 5 bonus point to all students in subject 3(index 2)\n",
    "grades[:,2] += \n",
    "\n",
    "#Display updated grades\n",
    "print(grades[:,2])"
   ]
  },
  {
   "cell_type": "code",
   "execution_count": 26,
   "id": "0dc2c803-7edc-49c1-980c-a7e49573347a",
   "metadata": {},
   "outputs": [
    {
     "name": "stdout",
     "output_type": "stream",
     "text": [
      "Original Grades:\n",
      " [[ 79  77  78  60  72]\n",
      " [ 98  86  64  81  99]\n",
      " [ 50  77  61  67  95]\n",
      " [ 64  57 104  82  71]\n",
      " [ 52  93  78  96  58]\n",
      " [ 64  92 104  86  87]\n",
      " [ 91  90 104  59  51]\n",
      " [ 82  76  76  63  53]\n",
      " [ 92  56 102  61  71]\n",
      " [ 64  64  62  73  61]] \n",
      "Weighted Grades:\n",
      " [[15.8  23.1   7.8  15.   10.8 ]\n",
      " [19.6  25.8   6.4  20.25 14.85]\n",
      " [10.   23.1   6.1  16.75 14.25]\n",
      " [12.8  17.1  10.4  20.5  10.65]\n",
      " [10.4  27.9   7.8  24.    8.7 ]\n",
      " [12.8  27.6  10.4  21.5  13.05]\n",
      " [18.2  27.   10.4  14.75  7.65]\n",
      " [16.4  22.8   7.6  15.75  7.95]\n",
      " [18.4  16.8  10.2  15.25 10.65]\n",
      " [12.8  19.2   6.2  18.25  9.15]]\n"
     ]
    }
   ],
   "source": [
    "#Define weights for each subject(e.g., importance of each subject)\n",
    "weights  = np.array([0.2,0.3,0.1,0.25,0.15])\n",
    "\n",
    "#apply weights to each subject grades\n",
    "weighted_grades = grades * weights\n",
    "\n",
    "#Display original weighted grades\n",
    "print(\"Original Grades:\\n\",grades,\"\\nWeighted Grades:\\n\",weighted_grades)"
   ]
  },
  {
   "cell_type": "code",
   "execution_count": 28,
   "id": "7f5ca219-6a2d-4567-8d0c-a44645b77716",
   "metadata": {},
   "outputs": [
    {
     "name": "stdout",
     "output_type": "stream",
     "text": [
      "Students who scored above 90 in Subject 1:\n",
      "[[ 98  86  64  81  99]\n",
      " [ 91  90 104  59  51]\n",
      " [ 92  56 102  61  71]]\n"
     ]
    }
   ],
   "source": [
    "#find students who scared above 90 in subject 1\n",
    "high_scores = grades[:,0]>90\n",
    "print(\"Students who scored above 90 in Subject 1:\")\n",
    "print(grades[high_scores])"
   ]
  },
  {
   "cell_type": "code",
   "execution_count": null,
   "id": "b09296eb-7ea7-44f4-a3c8-81779e950c9b",
   "metadata": {},
   "outputs": [],
   "source": []
  }
 ],
 "metadata": {
  "kernelspec": {
   "display_name": "Python 3 (ipykernel)",
   "language": "python",
   "name": "python3"
  },
  "language_info": {
   "codemirror_mode": {
    "name": "ipython",
    "version": 3
   },
   "file_extension": ".py",
   "mimetype": "text/x-python",
   "name": "python",
   "nbconvert_exporter": "python",
   "pygments_lexer": "ipython3",
   "version": "3.13.5"
  }
 },
 "nbformat": 4,
 "nbformat_minor": 5
}
